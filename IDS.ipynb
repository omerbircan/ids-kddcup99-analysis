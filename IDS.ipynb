{
 "cells": [
  {
   "cell_type": "code",
   "execution_count": 5,
   "id": "f2461b23",
   "metadata": {},
   "outputs": [],
   "source": [
    "import pandas as pd\n",
    "import numpy as np\n",
    "from sklearn import datasets\n",
    "from sklearn import metrics\n",
    "from sklearn import tree\n",
    "from sklearn.model_selection import train_test_split\n",
    "from sklearn.metrics import r2_score, accuracy_score\n",
    "from sklearn import preprocessing"
   ]
  },
  {
   "cell_type": "code",
   "execution_count": 6,
   "id": "0b014911",
   "metadata": {},
   "outputs": [],
   "source": [
    "# Data(x), Target(y)\n",
    "x,y = datasets.fetch_kddcup99(return_X_y = True)\n"
   ]
  },
  {
   "cell_type": "code",
   "execution_count": 7,
   "id": "918210e4",
   "metadata": {},
   "outputs": [
    {
     "data": {
      "text/plain": [
       "{'data':        duration protocol_type  service   flag src_bytes dst_bytes land  \\\n",
       " 0             0        b'tcp'  b'http'  b'SF'       181      5450    0   \n",
       " 1             0        b'tcp'  b'http'  b'SF'       239       486    0   \n",
       " 2             0        b'tcp'  b'http'  b'SF'       235      1337    0   \n",
       " 3             0        b'tcp'  b'http'  b'SF'       219      1337    0   \n",
       " 4             0        b'tcp'  b'http'  b'SF'       217      2032    0   \n",
       " ...         ...           ...      ...    ...       ...       ...  ...   \n",
       " 494016        0        b'tcp'  b'http'  b'SF'       310      1881    0   \n",
       " 494017        0        b'tcp'  b'http'  b'SF'       282      2286    0   \n",
       " 494018        0        b'tcp'  b'http'  b'SF'       203      1200    0   \n",
       " 494019        0        b'tcp'  b'http'  b'SF'       291      1200    0   \n",
       " 494020        0        b'tcp'  b'http'  b'SF'       219      1234    0   \n",
       " \n",
       "        wrong_fragment urgent hot  ... dst_host_count dst_host_srv_count  \\\n",
       " 0                   0      0   0  ...              9                  9   \n",
       " 1                   0      0   0  ...             19                 19   \n",
       " 2                   0      0   0  ...             29                 29   \n",
       " 3                   0      0   0  ...             39                 39   \n",
       " 4                   0      0   0  ...             49                 49   \n",
       " ...               ...    ...  ..  ...            ...                ...   \n",
       " 494016              0      0   0  ...             86                255   \n",
       " 494017              0      0   0  ...              6                255   \n",
       " 494018              0      0   0  ...             16                255   \n",
       " 494019              0      0   0  ...             26                255   \n",
       " 494020              0      0   0  ...              6                255   \n",
       " \n",
       "        dst_host_same_srv_rate dst_host_diff_srv_rate  \\\n",
       " 0                         1.0                    0.0   \n",
       " 1                         1.0                    0.0   \n",
       " 2                         1.0                    0.0   \n",
       " 3                         1.0                    0.0   \n",
       " 4                         1.0                    0.0   \n",
       " ...                       ...                    ...   \n",
       " 494016                    1.0                    0.0   \n",
       " 494017                    1.0                    0.0   \n",
       " 494018                    1.0                    0.0   \n",
       " 494019                    1.0                    0.0   \n",
       " 494020                    1.0                    0.0   \n",
       " \n",
       "        dst_host_same_src_port_rate dst_host_srv_diff_host_rate  \\\n",
       " 0                             0.11                         0.0   \n",
       " 1                             0.05                         0.0   \n",
       " 2                             0.03                         0.0   \n",
       " 3                             0.03                         0.0   \n",
       " 4                             0.02                         0.0   \n",
       " ...                            ...                         ...   \n",
       " 494016                        0.01                        0.05   \n",
       " 494017                        0.17                        0.05   \n",
       " 494018                        0.06                        0.05   \n",
       " 494019                        0.04                        0.05   \n",
       " 494020                        0.17                        0.05   \n",
       " \n",
       "        dst_host_serror_rate dst_host_srv_serror_rate dst_host_rerror_rate  \\\n",
       " 0                       0.0                      0.0                  0.0   \n",
       " 1                       0.0                      0.0                  0.0   \n",
       " 2                       0.0                      0.0                  0.0   \n",
       " 3                       0.0                      0.0                  0.0   \n",
       " 4                       0.0                      0.0                  0.0   \n",
       " ...                     ...                      ...                  ...   \n",
       " 494016                  0.0                     0.01                  0.0   \n",
       " 494017                  0.0                     0.01                  0.0   \n",
       " 494018                 0.06                     0.01                  0.0   \n",
       " 494019                 0.04                     0.01                  0.0   \n",
       " 494020                  0.0                     0.01                  0.0   \n",
       " \n",
       "        dst_host_srv_rerror_rate  \n",
       " 0                           0.0  \n",
       " 1                           0.0  \n",
       " 2                           0.0  \n",
       " 3                           0.0  \n",
       " 4                           0.0  \n",
       " ...                         ...  \n",
       " 494016                      0.0  \n",
       " 494017                      0.0  \n",
       " 494018                      0.0  \n",
       " 494019                      0.0  \n",
       " 494020                      0.0  \n",
       " \n",
       " [494021 rows x 41 columns],\n",
       " 'target': 0         b'normal.'\n",
       " 1         b'normal.'\n",
       " 2         b'normal.'\n",
       " 3         b'normal.'\n",
       " 4         b'normal.'\n",
       "              ...    \n",
       " 494016    b'normal.'\n",
       " 494017    b'normal.'\n",
       " 494018    b'normal.'\n",
       " 494019    b'normal.'\n",
       " 494020    b'normal.'\n",
       " Name: labels, Length: 494021, dtype: object,\n",
       " 'frame':        duration protocol_type  service   flag src_bytes dst_bytes land  \\\n",
       " 0             0        b'tcp'  b'http'  b'SF'       181      5450    0   \n",
       " 1             0        b'tcp'  b'http'  b'SF'       239       486    0   \n",
       " 2             0        b'tcp'  b'http'  b'SF'       235      1337    0   \n",
       " 3             0        b'tcp'  b'http'  b'SF'       219      1337    0   \n",
       " 4             0        b'tcp'  b'http'  b'SF'       217      2032    0   \n",
       " ...         ...           ...      ...    ...       ...       ...  ...   \n",
       " 494016        0        b'tcp'  b'http'  b'SF'       310      1881    0   \n",
       " 494017        0        b'tcp'  b'http'  b'SF'       282      2286    0   \n",
       " 494018        0        b'tcp'  b'http'  b'SF'       203      1200    0   \n",
       " 494019        0        b'tcp'  b'http'  b'SF'       291      1200    0   \n",
       " 494020        0        b'tcp'  b'http'  b'SF'       219      1234    0   \n",
       " \n",
       "        wrong_fragment urgent hot  ... dst_host_srv_count  \\\n",
       " 0                   0      0   0  ...                  9   \n",
       " 1                   0      0   0  ...                 19   \n",
       " 2                   0      0   0  ...                 29   \n",
       " 3                   0      0   0  ...                 39   \n",
       " 4                   0      0   0  ...                 49   \n",
       " ...               ...    ...  ..  ...                ...   \n",
       " 494016              0      0   0  ...                255   \n",
       " 494017              0      0   0  ...                255   \n",
       " 494018              0      0   0  ...                255   \n",
       " 494019              0      0   0  ...                255   \n",
       " 494020              0      0   0  ...                255   \n",
       " \n",
       "        dst_host_same_srv_rate dst_host_diff_srv_rate  \\\n",
       " 0                         1.0                    0.0   \n",
       " 1                         1.0                    0.0   \n",
       " 2                         1.0                    0.0   \n",
       " 3                         1.0                    0.0   \n",
       " 4                         1.0                    0.0   \n",
       " ...                       ...                    ...   \n",
       " 494016                    1.0                    0.0   \n",
       " 494017                    1.0                    0.0   \n",
       " 494018                    1.0                    0.0   \n",
       " 494019                    1.0                    0.0   \n",
       " 494020                    1.0                    0.0   \n",
       " \n",
       "        dst_host_same_src_port_rate dst_host_srv_diff_host_rate  \\\n",
       " 0                             0.11                         0.0   \n",
       " 1                             0.05                         0.0   \n",
       " 2                             0.03                         0.0   \n",
       " 3                             0.03                         0.0   \n",
       " 4                             0.02                         0.0   \n",
       " ...                            ...                         ...   \n",
       " 494016                        0.01                        0.05   \n",
       " 494017                        0.17                        0.05   \n",
       " 494018                        0.06                        0.05   \n",
       " 494019                        0.04                        0.05   \n",
       " 494020                        0.17                        0.05   \n",
       " \n",
       "        dst_host_serror_rate dst_host_srv_serror_rate dst_host_rerror_rate  \\\n",
       " 0                       0.0                      0.0                  0.0   \n",
       " 1                       0.0                      0.0                  0.0   \n",
       " 2                       0.0                      0.0                  0.0   \n",
       " 3                       0.0                      0.0                  0.0   \n",
       " 4                       0.0                      0.0                  0.0   \n",
       " ...                     ...                      ...                  ...   \n",
       " 494016                  0.0                     0.01                  0.0   \n",
       " 494017                  0.0                     0.01                  0.0   \n",
       " 494018                 0.06                     0.01                  0.0   \n",
       " 494019                 0.04                     0.01                  0.0   \n",
       " 494020                  0.0                     0.01                  0.0   \n",
       " \n",
       "        dst_host_srv_rerror_rate      labels  \n",
       " 0                           0.0  b'normal.'  \n",
       " 1                           0.0  b'normal.'  \n",
       " 2                           0.0  b'normal.'  \n",
       " 3                           0.0  b'normal.'  \n",
       " 4                           0.0  b'normal.'  \n",
       " ...                         ...         ...  \n",
       " 494016                      0.0  b'normal.'  \n",
       " 494017                      0.0  b'normal.'  \n",
       " 494018                      0.0  b'normal.'  \n",
       " 494019                      0.0  b'normal.'  \n",
       " 494020                      0.0  b'normal.'  \n",
       " \n",
       " [494021 rows x 42 columns],\n",
       " 'target_names': ['labels'],\n",
       " 'feature_names': ['duration',\n",
       "  'protocol_type',\n",
       "  'service',\n",
       "  'flag',\n",
       "  'src_bytes',\n",
       "  'dst_bytes',\n",
       "  'land',\n",
       "  'wrong_fragment',\n",
       "  'urgent',\n",
       "  'hot',\n",
       "  'num_failed_logins',\n",
       "  'logged_in',\n",
       "  'num_compromised',\n",
       "  'root_shell',\n",
       "  'su_attempted',\n",
       "  'num_root',\n",
       "  'num_file_creations',\n",
       "  'num_shells',\n",
       "  'num_access_files',\n",
       "  'num_outbound_cmds',\n",
       "  'is_host_login',\n",
       "  'is_guest_login',\n",
       "  'count',\n",
       "  'srv_count',\n",
       "  'serror_rate',\n",
       "  'srv_serror_rate',\n",
       "  'rerror_rate',\n",
       "  'srv_rerror_rate',\n",
       "  'same_srv_rate',\n",
       "  'diff_srv_rate',\n",
       "  'srv_diff_host_rate',\n",
       "  'dst_host_count',\n",
       "  'dst_host_srv_count',\n",
       "  'dst_host_same_srv_rate',\n",
       "  'dst_host_diff_srv_rate',\n",
       "  'dst_host_same_src_port_rate',\n",
       "  'dst_host_srv_diff_host_rate',\n",
       "  'dst_host_serror_rate',\n",
       "  'dst_host_srv_serror_rate',\n",
       "  'dst_host_rerror_rate',\n",
       "  'dst_host_srv_rerror_rate'],\n",
       " 'DESCR': '.. _kddcup99_dataset:\\n\\nKddcup 99 dataset\\n-----------------\\n\\nThe KDD Cup \\'99 dataset was created by processing the tcpdump portions\\nof the 1998 DARPA Intrusion Detection System (IDS) Evaluation dataset,\\ncreated by MIT Lincoln Lab [2]_. The artificial data (described on the `dataset\\'s\\nhomepage <https://kdd.ics.uci.edu/databases/kddcup99/kddcup99.html>`_) was\\ngenerated using a closed network and hand-injected attacks to produce a\\nlarge number of different types of attack with normal activity in the\\nbackground. As the initial goal was to produce a large training set for\\nsupervised learning algorithms, there is a large proportion (80.1%) of\\nabnormal data which is unrealistic in real world, and inappropriate for\\nunsupervised anomaly detection which aims at detecting \\'abnormal\\' data, i.e.:\\n\\n* qualitatively different from normal data\\n* in large minority among the observations.\\n\\nWe thus transform the KDD Data set into two different data sets: SA and SF.\\n\\n* SA is obtained by simply selecting all the normal data, and a small\\n  proportion of abnormal data to gives an anomaly proportion of 1%.\\n\\n* SF is obtained as in [3]_\\n  by simply picking up the data whose attribute logged_in is positive, thus\\n  focusing on the intrusion attack, which gives a proportion of 0.3% of\\n  attack.\\n\\n* http and smtp are two subsets of SF corresponding with third feature\\n  equal to \\'http\\' (resp. to \\'smtp\\').\\n\\nGeneral KDD structure :\\n\\n    ================      ==========================================\\n    Samples total         4898431\\n    Dimensionality        41\\n    Features              discrete (int) or continuous (float)\\n    Targets               str, \\'normal.\\' or name of the anomaly type\\n    ================      ==========================================\\n\\n    SA structure :\\n\\n    ================      ==========================================\\n    Samples total         976158\\n    Dimensionality        41\\n    Features              discrete (int) or continuous (float)\\n    Targets               str, \\'normal.\\' or name of the anomaly type\\n    ================      ==========================================\\n\\n    SF structure :\\n\\n    ================      ==========================================\\n    Samples total         699691\\n    Dimensionality        4\\n    Features              discrete (int) or continuous (float)\\n    Targets               str, \\'normal.\\' or name of the anomaly type\\n    ================      ==========================================\\n\\n    http structure :\\n\\n    ================      ==========================================\\n    Samples total         619052\\n    Dimensionality        3\\n    Features              discrete (int) or continuous (float)\\n    Targets               str, \\'normal.\\' or name of the anomaly type\\n    ================      ==========================================\\n\\n    smtp structure :\\n\\n    ================      ==========================================\\n    Samples total         95373\\n    Dimensionality        3\\n    Features              discrete (int) or continuous (float)\\n    Targets               str, \\'normal.\\' or name of the anomaly type\\n    ================      ==========================================\\n\\n:func:`sklearn.datasets.fetch_kddcup99` will load the kddcup99 dataset; it\\nreturns a dictionary-like object with the feature matrix in the ``data`` member\\nand the target values in ``target``. The \"as_frame\" optional argument converts\\n``data`` into a pandas DataFrame and ``target`` into a pandas Series. The\\ndataset will be downloaded from the web if necessary.\\n\\n.. topic:: References\\n\\n    .. [2] Analysis and Results of the 1999 DARPA Off-Line Intrusion\\n           Detection Evaluation, Richard Lippmann, Joshua W. Haines,\\n           David J. Fried, Jonathan Korba, Kumar Das.\\n\\n    .. [3] K. Yamanishi, J.-I. Takeuchi, G. Williams, and P. Milne. Online\\n           unsupervised outlier detection using finite mixtures with\\n           discounting learning algorithms. In Proceedings of the sixth\\n           ACM SIGKDD international conference on Knowledge discovery\\n           and data mining, pages 320-324. ACM Press, 2000.\\n'}"
      ]
     },
     "execution_count": 7,
     "metadata": {},
     "output_type": "execute_result"
    }
   ],
   "source": [
    "#Data Frame\n",
    "df = datasets.fetch_kddcup99(as_frame = True)\n",
    "df "
   ]
  },
  {
   "cell_type": "code",
   "execution_count": 8,
   "id": "aec3b98a",
   "metadata": {},
   "outputs": [
    {
     "data": {
      "text/plain": [
       "array([11, 11, 11, ..., 11, 11, 11])"
      ]
     },
     "execution_count": 8,
     "metadata": {},
     "output_type": "execute_result"
    }
   ],
   "source": [
    "#Preprocess\n",
    "le=preprocessing.LabelEncoder()\n",
    "x[:,1] = le.fit_transform(x[:,1])\n",
    "x[:,2] = le.fit_transform(x[:,2])\n",
    "x[:,3] = le.fit_transform(x[:,3])\n",
    "y = le.fit_transform(y)\n",
    "\n",
    "y"
   ]
  },
  {
   "cell_type": "code",
   "execution_count": 9,
   "id": "e1759e8e",
   "metadata": {},
   "outputs": [
    {
     "data": {
      "text/plain": [
       "((330994, 41), (330994,), (163027, 41), (163027,))"
      ]
     },
     "execution_count": 9,
     "metadata": {},
     "output_type": "execute_result"
    }
   ],
   "source": [
    "#Split data to train-test\n",
    "x_train, x_test, y_train, y_test = train_test_split(x, y, test_size=0.33, random_state=33)\n",
    "x_train.shape, y_train.shape, x_test.shape, y_test.shape"
   ]
  },
  {
   "cell_type": "code",
   "execution_count": 10,
   "id": "84ae3de4",
   "metadata": {},
   "outputs": [],
   "source": [
    "#Building model\n",
    "dt = tree.DecisionTreeClassifier(random_state = 10 )\n",
    "dt = dt.fit(x_train,y_train)"
   ]
  },
  {
   "cell_type": "code",
   "execution_count": 11,
   "id": "c6850fad",
   "metadata": {},
   "outputs": [
    {
     "data": {
      "text/plain": [
       "0.9974590875553512"
      ]
     },
     "execution_count": 11,
     "metadata": {},
     "output_type": "execute_result"
    }
   ],
   "source": [
    "#Predict targets\n",
    "predicted = dt.predict(x_test)\n",
    "r2_score(y_test, predicted)\n"
   ]
  },
  {
   "cell_type": "code",
   "execution_count": 12,
   "id": "75b6751c",
   "metadata": {},
   "outputs": [
    {
     "data": {
      "text/plain": [
       "0.999447944205561"
      ]
     },
     "execution_count": 12,
     "metadata": {},
     "output_type": "execute_result"
    }
   ],
   "source": [
    "accuracy_score(y_test, predicted)"
   ]
  }
 ],
 "metadata": {
  "kernelspec": {
   "display_name": "Python 3 (ipykernel)",
   "language": "python",
   "name": "python3"
  },
  "language_info": {
   "codemirror_mode": {
    "name": "ipython",
    "version": 3
   },
   "file_extension": ".py",
   "mimetype": "text/x-python",
   "name": "python",
   "nbconvert_exporter": "python",
   "pygments_lexer": "ipython3",
   "version": "3.9.5"
  }
 },
 "nbformat": 4,
 "nbformat_minor": 5
}
